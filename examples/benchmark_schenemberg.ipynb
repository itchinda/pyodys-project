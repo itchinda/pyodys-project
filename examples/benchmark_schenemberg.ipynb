{
 "cells": [
  {
   "cell_type": "code",
   "execution_count": 1,
   "id": "e86b20e9",
   "metadata": {
    "execution": {
     "iopub.execute_input": "2025-09-11T03:59:57.506185Z",
     "iopub.status.busy": "2025-09-11T03:59:57.505990Z",
     "iopub.status.idle": "2025-09-11T04:00:13.057442Z",
     "shell.execute_reply": "2025-09-11T04:00:13.056334Z"
    }
   },
   "outputs": [],
   "source": [
    "\"\"\"\n",
    "Benchmark: 1D Schnakenberg Reaction-Diffusion System\n",
    "====================================================\n",
    "\n",
    "This benchmark compares the performance of implicit Runge-Kutta solvers\n",
    "when using sparse versus dense Jacobian representations.\n",
    "\n",
    "Problem description\n",
    "-------------------\n",
    "We solve the Schnakenberg reaction-diffusion system in 1D:\n",
    "\n",
    "    ∂u/∂t = D_u ∂²u/∂x² + a - u + u²v\n",
    "    ∂v/∂t = D_v ∂²v/∂x² + b - u²v\n",
    "\n",
    "on the spatial domain x ∈ (0, 1) with homogeneous Dirichlet boundary\n",
    "conditions (u = v = 0 at the boundaries). The parameters are:\n",
    "\n",
    "    a = 0.2,    b = 1.3\n",
    "    D_u = 1e-3, D_v = 5e-3\n",
    "\n",
    "Discretization\n",
    "--------------\n",
    "The spatial domain is discretized with N interior points and uniform\n",
    "grid spacing h = 1 / (N + 1). A standard finite-difference Laplacian\n",
    "is used for the diffusion operator. This yields a system of ODEs in\n",
    "time of dimension 2N:\n",
    "\n",
    "    U = (u₁, ..., u_N, v₁, ..., v_N)ᵀ ∈ ℝ²ᴺ.\n",
    "\n",
    "ODE System\n",
    "----------\n",
    "The resulting semi-discrete system is integrated in time with an\n",
    "implicit Runge-Kutta scheme (SDIRK(3,4) by Nørsett-Thompson). The\n",
    "benchmark compares two implementations of the Jacobian:\n",
    "\n",
    "    • Dense Jacobian: stored and factored as a full 2N x 2N matrix.\n",
    "    • Sparse Jacobian: block sparse representation with CSR format.\n",
    "\n",
    "Goal\n",
    "----\n",
    "To measure the impact of Jacobian sparsity on runtime efficiency\n",
    "for moderately large problems (here N = 200).\n",
    "\n",
    "Expected behavior:\n",
    "- Sparse storage/factorization should reduce computational cost and\n",
    "  memory footprint compared to the dense approach.\n",
    "\"\"\"\n",
    "\n",
    "import time\n",
    "import numpy as np\n",
    "import scipy.sparse as sp\n",
    "from scipy.sparse import diags, bmat\n",
    "from matplotlib import pyplot as plt\n",
    "\n",
    "from pyodys import ODEProblem, ButcherTableau, RKSolverWithButcherTableau\n"
   ]
  },
  {
   "cell_type": "code",
   "execution_count": 2,
   "id": "056013c7",
   "metadata": {
    "execution": {
     "iopub.execute_input": "2025-09-11T04:00:13.060580Z",
     "iopub.status.busy": "2025-09-11T04:00:13.060062Z",
     "iopub.status.idle": "2025-09-11T04:00:13.072073Z",
     "shell.execute_reply": "2025-09-11T04:00:13.071196Z"
    }
   },
   "outputs": [],
   "source": [
    "\n",
    "\n",
    "# ---------------------------------------------------------------------------\n",
    "# Model parameters\n",
    "# ---------------------------------------------------------------------------\n",
    "a, b = 0.2, 1.3        # Schnakenberg reaction parameters\n",
    "D_u, D_v = 1e-3, 5e-3  # Diffusion coefficients\n",
    "\n",
    "# ---------------------------------------------------------------------------\n",
    "# Utilities\n",
    "# ---------------------------------------------------------------------------\n",
    "def laplacian_1d(N: int, h: float) -> sp.csr_matrix:\n",
    "    \"\"\"Construct 1D Laplacian with Dirichlet BC.\"\"\"\n",
    "    main_diag = -2.0 * np.ones(N)\n",
    "    off_diag = np.ones(N-1)\n",
    "    return diags([off_diag, main_diag, off_diag], [-1,0,1], format='csr') / (h**2)\n",
    "\n",
    "# ---------------------------------------------------------------------------\n",
    "# Schnakenberg 1D problem\n",
    "# ---------------------------------------------------------------------------\n",
    "class Schnakenberg1D(ODEProblem):\n",
    "    \"\"\"1D Schnakenberg reaction-diffusion system.\"\"\"\n",
    "    \n",
    "    def __init__(self, N: int, t_init: float, t_final: float, force_dense: bool = False):\n",
    "        self.N = N\n",
    "        self.h = 1.0 / (N + 1)\n",
    "        self.x = np.linspace(self.h, 1.0 - self.h, N)\n",
    "        self.force_dense = force_dense\n",
    "\n",
    "        # Steady-state solution with perturbation\n",
    "        u0 = a + b\n",
    "        v0 = b / (a + b)**2\n",
    "        rng = np.random.default_rng(12345)\n",
    "        perturb = 0.02 * rng.standard_normal(size=(N,))\n",
    "        U = u0 + perturb\n",
    "        V = v0 + perturb\n",
    "        initial_state = np.hstack([U, V])\n",
    "\n",
    "        self.L = laplacian_1d(N, self.h)\n",
    "        super().__init__(t_init, t_final, initial_state, jacobian_is_constant=False, mass_matrix_is_identity=True)\n",
    "\n",
    "    def evaluate_at(self, t: float, U: np.ndarray) -> np.ndarray:\n",
    "        u = U[:self.N]\n",
    "        v = U[self.N:]\n",
    "        rhs_u = D_u * self.L.dot(u) + (a - u + u**2 * v)\n",
    "        rhs_v = D_v * self.L.dot(v) + (b - u**2 * v)\n",
    "        return np.concatenate([rhs_u, rhs_v])\n",
    "\n",
    "    def jacobian_at(self, t: float, U: np.ndarray):\n",
    "        u = U[:self.N]\n",
    "        v = U[self.N:]\n",
    "        n = self.N\n",
    "        if self.force_dense:\n",
    "            J = np.zeros((2*n, 2*n))\n",
    "            J[:n,:n] = D_u*self.L.toarray() + np.diag(-1 + 2*u*v)\n",
    "            J[:n,n:] = np.diag(u**2)\n",
    "            J[n:,:n] = np.diag(-2*u*v)\n",
    "            J[n:,n:] = D_v*self.L.toarray() + np.diag(-u**2)\n",
    "            return J\n",
    "        else:\n",
    "            R_uu = diags(-1 + 2*u*v, 0, format='csr')\n",
    "            R_uv = diags(u**2, 0, format='csr')\n",
    "            R_vu = diags(-2*u*v, 0, format='csr')\n",
    "            R_vv = diags(-u**2, 0, format='csr')\n",
    "            A11 = D_u * self.L + R_uu\n",
    "            A12 = R_uv\n",
    "            A21 = R_vu\n",
    "            A22 = D_v * self.L + R_vv\n",
    "            return bmat([[A11,A12],[A21,A22]], format='csr')\n",
    "\n"
   ]
  },
  {
   "cell_type": "code",
   "execution_count": 3,
   "id": "2977a8e4",
   "metadata": {
    "execution": {
     "iopub.execute_input": "2025-09-11T04:00:13.073822Z",
     "iopub.status.busy": "2025-09-11T04:00:13.073672Z",
     "iopub.status.idle": "2025-09-11T04:00:55.183491Z",
     "shell.execute_reply": "2025-09-11T04:00:55.182477Z"
    }
   },
   "outputs": [
    {
     "name": "stdout",
     "output_type": "stream",
     "text": [
      "Sparse Jacobian returned by user: size=400x400, density=9.975e-03\n",
      "Jacobian marked as variable → will be recomputed at each stage refresh.\n",
      "Successfully pre-allocated memory for the solution array.\n",
      "Time step #39 completed. Current time: 0.0213\n",
      "Time step #49 completed. Current time: 0.0402\n",
      "Time step #56 completed. Current time: 0.0613\n",
      "Time step #61 completed. Current time: 0.0821\n",
      "Time step #65 completed. Current time: 0.1035\n",
      "Time step #68 completed. Current time: 0.1228\n",
      "Time step #71 completed. Current time: 0.1456\n",
      "Time step #73 completed. Current time: 0.1629\n",
      "Time step #75 completed. Current time: 0.1822\n",
      "Time step #77 completed. Current time: 0.2036\n",
      "Time step #79 completed. Current time: 0.2275\n",
      "Time step #80 completed. Current time: 0.2403\n",
      "Time step #82 completed. Current time: 0.2682\n",
      "Time step #83 completed. Current time: 0.2833\n",
      "Time step #85 completed. Current time: 0.3158\n",
      "Time step #86 completed. Current time: 0.3334\n",
      "Time step #87 completed. Current time: 0.3519\n",
      "Time step #88 completed. Current time: 0.3713\n",
      "Time step #89 completed. Current time: 0.3918\n",
      "Time step #90 completed. Current time: 0.4134\n",
      "Time step #91 completed. Current time: 0.4361\n",
      "Time step #92 completed. Current time: 0.4600\n",
      "Time step #93 completed. Current time: 0.4852\n",
      "Time step #94 completed. Current time: 0.5117\n",
      "Time step #95 completed. Current time: 0.5395\n",
      "Time step #96 completed. Current time: 0.5688\n",
      "Time step #97 completed. Current time: 0.5996\n",
      "Time step #98 completed. Current time: 0.6320\n",
      "Time step #99 completed. Current time: 0.6660\n",
      "Time step #100 completed. Current time: 0.7017\n",
      "Time step #101 completed. Current time: 0.7393\n",
      "Time step #102 completed. Current time: 0.7788\n",
      "Time step #103 completed. Current time: 0.8202\n",
      "Time step #104 completed. Current time: 0.8637\n",
      "Time step #105 completed. Current time: 0.9093\n",
      "Time step #106 completed. Current time: 0.9571\n",
      "Time step #107 completed. Current time: 1.0072\n",
      "Time step #108 completed. Current time: 1.0596\n",
      "Time step #109 completed. Current time: 1.1145\n"
     ]
    },
    {
     "name": "stdout",
     "output_type": "stream",
     "text": [
      "Time step #110 completed. Current time: 1.1720\n",
      "Time step #111 completed. Current time: 1.2319\n",
      "Time step #112 completed. Current time: 1.2946\n",
      "Time step #113 completed. Current time: 1.3599\n",
      "Time step #114 completed. Current time: 1.4281\n",
      "Time step #115 completed. Current time: 1.4990\n",
      "Time step #116 completed. Current time: 1.5730\n",
      "Time step #117 completed. Current time: 1.6499\n",
      "Time step #118 completed. Current time: 1.7299\n",
      "Time step #119 completed. Current time: 1.8132\n",
      "Time step #120 completed. Current time: 1.8998\n",
      "Time step #121 completed. Current time: 1.9897\n",
      "Time step #122 completed. Current time: 2.0000\n",
      "The total number of time steps required to reach t_final = 2.0 is 122.\n",
      "Dense Jacobian returned by user, using dense: size=400x400\n",
      "Jacobian marked as variable → will be recomputed at each stage refresh.\n",
      "Successfully pre-allocated memory for the solution array.\n"
     ]
    },
    {
     "name": "stdout",
     "output_type": "stream",
     "text": [
      "Time step #39 completed. Current time: 0.0213\n"
     ]
    },
    {
     "name": "stdout",
     "output_type": "stream",
     "text": [
      "Time step #49 completed. Current time: 0.0402\n"
     ]
    },
    {
     "name": "stdout",
     "output_type": "stream",
     "text": [
      "Time step #56 completed. Current time: 0.0613\n"
     ]
    },
    {
     "name": "stdout",
     "output_type": "stream",
     "text": [
      "Time step #61 completed. Current time: 0.0821\n"
     ]
    },
    {
     "name": "stdout",
     "output_type": "stream",
     "text": [
      "Time step #65 completed. Current time: 0.1035\n"
     ]
    },
    {
     "name": "stdout",
     "output_type": "stream",
     "text": [
      "Time step #68 completed. Current time: 0.1228\n"
     ]
    },
    {
     "name": "stdout",
     "output_type": "stream",
     "text": [
      "Time step #71 completed. Current time: 0.1456\n"
     ]
    },
    {
     "name": "stdout",
     "output_type": "stream",
     "text": [
      "Time step #73 completed. Current time: 0.1629\n"
     ]
    },
    {
     "name": "stdout",
     "output_type": "stream",
     "text": [
      "Time step #75 completed. Current time: 0.1822\n"
     ]
    },
    {
     "name": "stdout",
     "output_type": "stream",
     "text": [
      "Time step #77 completed. Current time: 0.2036\n"
     ]
    },
    {
     "name": "stdout",
     "output_type": "stream",
     "text": [
      "Time step #79 completed. Current time: 0.2275\n"
     ]
    },
    {
     "name": "stdout",
     "output_type": "stream",
     "text": [
      "Time step #80 completed. Current time: 0.2403\n"
     ]
    },
    {
     "name": "stdout",
     "output_type": "stream",
     "text": [
      "Time step #82 completed. Current time: 0.2682\n"
     ]
    },
    {
     "name": "stdout",
     "output_type": "stream",
     "text": [
      "Time step #83 completed. Current time: 0.2833\n"
     ]
    },
    {
     "name": "stdout",
     "output_type": "stream",
     "text": [
      "Time step #85 completed. Current time: 0.3158\n"
     ]
    },
    {
     "name": "stdout",
     "output_type": "stream",
     "text": [
      "Time step #86 completed. Current time: 0.3334\n"
     ]
    },
    {
     "name": "stdout",
     "output_type": "stream",
     "text": [
      "Time step #87 completed. Current time: 0.3519\n"
     ]
    },
    {
     "name": "stdout",
     "output_type": "stream",
     "text": [
      "Time step #88 completed. Current time: 0.3713\n"
     ]
    },
    {
     "name": "stdout",
     "output_type": "stream",
     "text": [
      "Time step #89 completed. Current time: 0.3918\n"
     ]
    },
    {
     "name": "stdout",
     "output_type": "stream",
     "text": [
      "Time step #90 completed. Current time: 0.4134\n"
     ]
    },
    {
     "name": "stdout",
     "output_type": "stream",
     "text": [
      "Time step #91 completed. Current time: 0.4361\n"
     ]
    },
    {
     "name": "stdout",
     "output_type": "stream",
     "text": [
      "Time step #92 completed. Current time: 0.4600\n"
     ]
    },
    {
     "name": "stdout",
     "output_type": "stream",
     "text": [
      "Time step #93 completed. Current time: 0.4852\n"
     ]
    },
    {
     "name": "stdout",
     "output_type": "stream",
     "text": [
      "Time step #94 completed. Current time: 0.5117\n"
     ]
    },
    {
     "name": "stdout",
     "output_type": "stream",
     "text": [
      "Time step #95 completed. Current time: 0.5395\n"
     ]
    },
    {
     "name": "stdout",
     "output_type": "stream",
     "text": [
      "Time step #96 completed. Current time: 0.5688\n"
     ]
    },
    {
     "name": "stdout",
     "output_type": "stream",
     "text": [
      "Time step #97 completed. Current time: 0.5996\n"
     ]
    },
    {
     "name": "stdout",
     "output_type": "stream",
     "text": [
      "Time step #98 completed. Current time: 0.6320\n"
     ]
    },
    {
     "name": "stdout",
     "output_type": "stream",
     "text": [
      "Time step #99 completed. Current time: 0.6660\n"
     ]
    },
    {
     "name": "stdout",
     "output_type": "stream",
     "text": [
      "Time step #100 completed. Current time: 0.7017\n"
     ]
    },
    {
     "name": "stdout",
     "output_type": "stream",
     "text": [
      "Time step #101 completed. Current time: 0.7393\n"
     ]
    },
    {
     "name": "stdout",
     "output_type": "stream",
     "text": [
      "Time step #102 completed. Current time: 0.7788\n"
     ]
    },
    {
     "name": "stdout",
     "output_type": "stream",
     "text": [
      "Time step #103 completed. Current time: 0.8202\n"
     ]
    },
    {
     "name": "stdout",
     "output_type": "stream",
     "text": [
      "Time step #104 completed. Current time: 0.8637\n"
     ]
    },
    {
     "name": "stdout",
     "output_type": "stream",
     "text": [
      "Time step #105 completed. Current time: 0.9093\n"
     ]
    },
    {
     "name": "stdout",
     "output_type": "stream",
     "text": [
      "Time step #106 completed. Current time: 0.9571\n"
     ]
    },
    {
     "name": "stdout",
     "output_type": "stream",
     "text": [
      "Time step #107 completed. Current time: 1.0072\n"
     ]
    },
    {
     "name": "stdout",
     "output_type": "stream",
     "text": [
      "Time step #108 completed. Current time: 1.0596\n"
     ]
    },
    {
     "name": "stdout",
     "output_type": "stream",
     "text": [
      "Time step #109 completed. Current time: 1.1145\n"
     ]
    },
    {
     "name": "stdout",
     "output_type": "stream",
     "text": [
      "Time step #110 completed. Current time: 1.1720\n"
     ]
    },
    {
     "name": "stdout",
     "output_type": "stream",
     "text": [
      "Time step #111 completed. Current time: 1.2319\n"
     ]
    },
    {
     "name": "stdout",
     "output_type": "stream",
     "text": [
      "Time step #112 completed. Current time: 1.2946\n"
     ]
    },
    {
     "name": "stdout",
     "output_type": "stream",
     "text": [
      "Time step #113 completed. Current time: 1.3599\n"
     ]
    },
    {
     "name": "stdout",
     "output_type": "stream",
     "text": [
      "Time step #114 completed. Current time: 1.4281\n"
     ]
    },
    {
     "name": "stdout",
     "output_type": "stream",
     "text": [
      "Time step #115 completed. Current time: 1.4990\n"
     ]
    },
    {
     "name": "stdout",
     "output_type": "stream",
     "text": [
      "Time step #116 completed. Current time: 1.5730\n"
     ]
    },
    {
     "name": "stdout",
     "output_type": "stream",
     "text": [
      "Time step #117 completed. Current time: 1.6499\n"
     ]
    },
    {
     "name": "stdout",
     "output_type": "stream",
     "text": [
      "Time step #118 completed. Current time: 1.7299\n"
     ]
    },
    {
     "name": "stdout",
     "output_type": "stream",
     "text": [
      "Time step #119 completed. Current time: 1.8132\n"
     ]
    },
    {
     "name": "stdout",
     "output_type": "stream",
     "text": [
      "Time step #120 completed. Current time: 1.8998\n"
     ]
    },
    {
     "name": "stdout",
     "output_type": "stream",
     "text": [
      "Time step #121 completed. Current time: 1.9897\n"
     ]
    },
    {
     "name": "stdout",
     "output_type": "stream",
     "text": [
      "Time step #122 completed. Current time: 2.0000\n",
      "The total number of time steps required to reach t_final = 2.0 is 122.\n",
      "Sparse solver CPU time: 0.227 s\n",
      "Dense solver CPU time:  41.868 s\n"
     ]
    }
   ],
   "source": [
    "# ---------------------------------------------------------------------------\n",
    "# Benchmark setup\n",
    "# ---------------------------------------------------------------------------\n",
    "N = 200\n",
    "t_init, t_final = 0.0, 2.0\n",
    "\n",
    "prob_sparse = Schnakenberg1D(N, t_init, t_final, force_dense=False)\n",
    "prob_dense  = Schnakenberg1D(N, t_init, t_final, force_dense=True)\n",
    "\n",
    "solver_opts = {\n",
    "    \"butcher_tableau\": ButcherTableau.from_name(\"esdirk6\"),\n",
    "    \"initial_step_size\": 1e-6,\n",
    "    \"adaptive_time_stepping\": True,\n",
    "    \"min_step_size\": 1e-8,\n",
    "    \"max_step_size\": 1e-1,\n",
    "    \"target_relative_error\": 1e-8\n",
    "}\n",
    "\n",
    "solver_sparse = RKSolverWithButcherTableau(auto_check_sparsity =True, **solver_opts)\n",
    "solver_dense  = RKSolverWithButcherTableau(auto_check_sparsity =False, **solver_opts)\n",
    "\n",
    "# ---------------------------------------------------------------------------\n",
    "# Solve\n",
    "# ---------------------------------------------------------------------------\n",
    "t0 = time.perf_counter()\n",
    "times_sparse, sols_sparse = solver_sparse.solve(prob_sparse)\n",
    "elapsed_sparse = time.perf_counter() - t0\n",
    "\n",
    "t0 = time.perf_counter()\n",
    "times_dense, sols_dense = solver_dense.solve(prob_dense)\n",
    "elapsed_dense = time.perf_counter() - t0\n",
    "\n",
    "print(f\"Sparse solver CPU time: {elapsed_sparse:.3f} s\")\n",
    "print(f\"Dense solver CPU time:  {elapsed_dense:.3f} s\")\n",
    "\n"
   ]
  },
  {
   "cell_type": "code",
   "execution_count": 4,
   "id": "6d4cbab8",
   "metadata": {
    "execution": {
     "iopub.execute_input": "2025-09-11T04:00:55.187169Z",
     "iopub.status.busy": "2025-09-11T04:00:55.186687Z",
     "iopub.status.idle": "2025-09-11T04:00:55.909867Z",
     "shell.execute_reply": "2025-09-11T04:00:55.908402Z"
    }
   },
   "outputs": [
    {
     "data": {
      "image/png": "[encoded data removed]",
      "text/plain": [
       "<Figure size 600x400 with 1 Axes>"
      ]
     },
     "metadata": {},
     "output_type": "display_data"
    }
   ],
   "source": [
    "# ---------------------------------------------------------------------------\n",
    "# Mass evolution\n",
    "# ---------------------------------------------------------------------------\n",
    "U_all = sols_sparse[:, :N]\n",
    "V_all = sols_sparse[:, N:]\n",
    "\n",
    "mass_u = U_all @ np.ones(N) * prob_sparse.h\n",
    "mass_v = V_all @ np.ones(N) * prob_sparse.h\n",
    "\n",
    "plt.figure(figsize=(6,4))\n",
    "plt.plot(times_sparse, mass_u, label='Mass u')\n",
    "plt.plot(times_sparse, mass_v, label='Mass v')\n",
    "plt.xlabel('time')\n",
    "plt.ylabel('Integrated concentration')\n",
    "plt.title('Mass evolution')\n",
    "plt.legend()\n",
    "plt.tight_layout()\n",
    "plt.show()\n",
    "\n"
   ]
  },
  {
   "cell_type": "code",
   "execution_count": 5,
   "id": "00001ffd",
   "metadata": {
    "execution": {
     "iopub.execute_input": "2025-09-11T04:00:55.914218Z",
     "iopub.status.busy": "2025-09-11T04:00:55.913723Z",
     "iopub.status.idle": "2025-09-11T04:00:56.550829Z",
     "shell.execute_reply": "2025-09-11T04:00:56.549704Z"
    }
   },
   "outputs": [
    {
     "data": {
      "image/png": "[encoded data removed]",
      "text/plain": [
       "<Figure size 1200x800 with 6 Axes>"
      ]
     },
     "metadata": {},
     "output_type": "display_data"
    }
   ],
   "source": [
    "# ---------------------------------------------------------------------------\n",
    "# Spatio-temporal solution\n",
    "# ---------------------------------------------------------------------------\n",
    "fig, axes = plt.subplots(2,2, figsize=(12,8))\n",
    "\n",
    "# Heatmap u\n",
    "im1 = axes[0,0].imshow(U_all.T, extent=[t_init, t_final, prob_sparse.x[0], prob_sparse.x[-1]],\n",
    "                        aspect='auto', origin='lower', cmap='viridis')\n",
    "axes[0,0].set_title(\"u(x,t)\")\n",
    "axes[0,0].set_xlabel(\"time\")\n",
    "axes[0,0].set_ylabel(\"x\")\n",
    "fig.colorbar(im1, ax=axes[0,0])\n",
    "\n",
    "# Heatmap v\n",
    "im2 = axes[0,1].imshow(V_all.T, extent=[t_init, t_final, prob_sparse.x[0], prob_sparse.x[-1]],\n",
    "                        aspect='auto', origin='lower', cmap='viridis')\n",
    "axes[0,1].set_title(\"v(x,t)\")\n",
    "axes[0,1].set_xlabel(\"time\")\n",
    "axes[0,1].set_ylabel(\"x\")\n",
    "fig.colorbar(im2, ax=axes[0,1])\n",
    "\n",
    "# Final snapshot\n",
    "axes[1,0].plot(prob_sparse.x, U_all[-1], label='u(x,t_final)')\n",
    "axes[1,0].plot(prob_sparse.x, V_all[-1], label='v(x,t_final)')\n",
    "axes[1,0].set_title(\"Final solution\")\n",
    "axes[1,0].set_xlabel(\"x\")\n",
    "axes[1,0].set_ylabel(\"concentration\")\n",
    "axes[1,0].legend()\n",
    "\n",
    "plt.tight_layout()\n",
    "plt.show()\n",
    "\n"
   ]
  },
  {
   "cell_type": "code",
   "execution_count": 6,
   "id": "5dd43d37",
   "metadata": {
    "execution": {
     "iopub.execute_input": "2025-09-11T04:00:56.553326Z",
     "iopub.status.busy": "2025-09-11T04:00:56.552918Z",
     "iopub.status.idle": "2025-09-11T04:36:12.997146Z",
     "shell.execute_reply": "2025-09-11T04:36:12.995254Z"
    }
   },
   "outputs": [
    {
     "name": "stdout",
     "output_type": "stream",
     "text": [
      "Sparse Jacobian returned by user: size=50x50, density=7.840e-02\n",
      "Jacobian marked as variable → will be recomputed at each stage refresh.\n",
      "Successfully pre-allocated memory for the solution array.\n",
      "Time step #7 completed. Current time: 0.0070\n",
      "Time step #8 completed. Current time: 0.0200\n",
      "Time step #9 completed. Current time: 0.0345\n",
      "Time step #10 completed. Current time: 0.0496\n",
      "Time step #11 completed. Current time: 0.0653\n",
      "Time step #12 completed. Current time: 0.0816\n",
      "Time step #13 completed. Current time: 0.0986\n",
      "Time step #14 completed. Current time: 0.1162\n",
      "Time step #15 completed. Current time: 0.1346\n",
      "Time step #16 completed. Current time: 0.1539\n",
      "Time step #17 completed. Current time: 0.1740\n",
      "Time step #18 completed. Current time: 0.1952\n",
      "Time step #19 completed. Current time: 0.2000\n",
      "The total number of time steps required to reach t_final = 0.2 is 19.\n",
      "Dense Jacobian returned by user, using dense: size=50x50\n",
      "Jacobian marked as variable → will be recomputed at each stage refresh.\n",
      "Successfully pre-allocated memory for the solution array.\n",
      "Time step #7 completed. Current time: 0.0070\n",
      "Time step #8 completed. Current time: 0.0200\n",
      "Time step #9 completed. Current time: 0.0345\n",
      "Time step #10 completed. Current time: 0.0496\n",
      "Time step #11 completed. Current time: 0.0653\n",
      "Time step #12 completed. Current time: 0.0816\n",
      "Time step #13 completed. Current time: 0.0986\n",
      "Time step #14 completed. Current time: 0.1162\n",
      "Time step #15 completed. Current time: 0.1346\n",
      "Time step #16 completed. Current time: 0.1539\n",
      "Time step #17 completed. Current time: 0.1740\n",
      "Time step #18 completed. Current time: 0.1952\n",
      "Time step #19 completed. Current time: 0.2000\n",
      "The total number of time steps required to reach t_final = 0.2 is 19.\n",
      "Sparse Jacobian returned by user: size=100x100, density=3.960e-02\n",
      "Jacobian marked as variable → will be recomputed at each stage refresh.\n",
      "Successfully pre-allocated memory for the solution array.\n",
      "Time step #7 completed. Current time: 0.0054\n",
      "Time step #8 completed. Current time: 0.0096\n",
      "Time step #9 completed. Current time: 0.0140\n",
      "Time step #10 completed. Current time: 0.0186\n",
      "Time step #11 completed. Current time: 0.0234\n",
      "Time step #12 completed. Current time: 0.0283\n",
      "Time step #13 completed. Current time: 0.0334\n",
      "Time step #14 completed. Current time: 0.0387\n",
      "Time step #15 completed. Current time: 0.0443\n",
      "Time step #16 completed. Current time: 0.0501\n",
      "Time step #17 completed. Current time: 0.0561\n",
      "Time step #18 completed. Current time: 0.0625\n",
      "Time step #19 completed. Current time: 0.0691\n",
      "Time step #20 completed. Current time: 0.0760\n",
      "Time step #21 completed. Current time: 0.0833\n",
      "Time step #22 completed. Current time: 0.0910\n",
      "Time step #23 completed. Current time: 0.0991\n",
      "Time step #24 completed. Current time: 0.1077\n",
      "Time step #25 completed. Current time: 0.1167\n",
      "Time step #26 completed. Current time: 0.1263\n",
      "Time step #27 completed. Current time: 0.1365\n",
      "Time step #28 completed. Current time: 0.1474\n",
      "Time step #29 completed. Current time: 0.1589\n",
      "Time step #30 completed. Current time: 0.1712\n",
      "Time step #31 completed. Current time: 0.1844\n",
      "Time step #32 completed. Current time: 0.1985\n",
      "Time step #33 completed. Current time: 0.2000\n",
      "The total number of time steps required to reach t_final = 0.2 is 33.\n",
      "Dense Jacobian returned by user, using dense: size=100x100\n",
      "Jacobian marked as variable → will be recomputed at each stage refresh.\n",
      "Successfully pre-allocated memory for the solution array.\n",
      "Time step #7 completed. Current time: 0.0054\n",
      "Time step #8 completed. Current time: 0.0096\n",
      "Time step #9 completed. Current time: 0.0140\n",
      "Time step #10 completed. Current time: 0.0186\n",
      "Time step #11 completed. Current time: 0.0234\n",
      "Time step #12 completed. Current time: 0.0283\n",
      "Time step #13 completed. Current time: 0.0334\n",
      "Time step #14 completed. Current time: 0.0387\n",
      "Time step #15 completed. Current time: 0.0443\n",
      "Time step #16 completed. Current time: 0.0501\n",
      "Time step #17 completed. Current time: 0.0561\n",
      "Time step #18 completed. Current time: 0.0625\n",
      "Time step #19 completed. Current time: 0.0691\n",
      "Time step #20 completed. Current time: 0.0760\n",
      "Time step #21 completed. Current time: 0.0833\n",
      "Time step #22 completed. Current time: 0.0910\n",
      "Time step #23 completed. Current time: 0.0991\n",
      "Time step #24 completed. Current time: 0.1077\n",
      "Time step #25 completed. Current time: 0.1167\n",
      "Time step #26 completed. Current time: 0.1263\n",
      "Time step #27 completed. Current time: 0.1365\n",
      "Time step #28 completed. Current time: 0.1474\n",
      "Time step #29 completed. Current time: 0.1589\n",
      "Time step #30 completed. Current time: 0.1712\n",
      "Time step #31 completed. Current time: 0.1844\n",
      "Time step #32 completed. Current time: 0.1985\n",
      "Time step #33 completed. Current time: 0.2000\n",
      "The total number of time steps required to reach t_final = 0.2 is 33.\n",
      "Sparse Jacobian returned by user: size=200x200, density=1.990e-02\n",
      "Jacobian marked as variable → will be recomputed at each stage refresh.\n",
      "Successfully pre-allocated memory for the solution array.\n",
      "Time step #7 completed. Current time: 0.0024\n",
      "Time step #9 completed. Current time: 0.0046\n",
      "Time step #11 completed. Current time: 0.0071\n",
      "Time step #12 completed. Current time: 0.0083\n",
      "Time step #14 completed. Current time: 0.0111\n",
      "Time step #15 completed. Current time: 0.0125\n",
      "Time step #16 completed. Current time: 0.0140\n",
      "Time step #18 completed. Current time: 0.0173\n",
      "Time step #19 completed. Current time: 0.0190\n",
      "Time step #20 completed. Current time: 0.0208\n",
      "Time step #21 completed. Current time: 0.0227\n",
      "Time step #22 completed. Current time: 0.0247\n",
      "Time step #23 completed. Current time: 0.0268\n",
      "Time step #24 completed. Current time: 0.0290\n",
      "Time step #25 completed. Current time: 0.0313\n",
      "Time step #26 completed. Current time: 0.0338\n",
      "Time step #27 completed. Current time: 0.0364\n",
      "Time step #28 completed. Current time: 0.0391\n",
      "Time step #29 completed. Current time: 0.0420\n",
      "Time step #30 completed. Current time: 0.0451\n",
      "Time step #31 completed. Current time: 0.0483\n",
      "Time step #32 completed. Current time: 0.0518\n"
     ]
    },
    {
     "name": "stdout",
     "output_type": "stream",
     "text": [
      "Time step #33 completed. Current time: 0.0554\n",
      "Time step #34 completed. Current time: 0.0593\n",
      "Time step #35 completed. Current time: 0.0634\n",
      "Time step #36 completed. Current time: 0.0678\n",
      "Time step #37 completed. Current time: 0.0725\n",
      "Time step #38 completed. Current time: 0.0775\n",
      "Time step #39 completed. Current time: 0.0827\n",
      "Time step #40 completed. Current time: 0.0884\n",
      "Time step #41 completed. Current time: 0.0944\n",
      "Time step #42 completed. Current time: 0.1007\n",
      "Time step #43 completed. Current time: 0.1075\n",
      "Time step #44 completed. Current time: 0.1147\n",
      "Time step #45 completed. Current time: 0.1224\n",
      "Time step #46 completed. Current time: 0.1305\n",
      "Time step #47 completed. Current time: 0.1392\n",
      "Time step #48 completed. Current time: 0.1484\n",
      "Time step #49 completed. Current time: 0.1581\n",
      "Time step #50 completed. Current time: 0.1684\n",
      "Time step #51 completed. Current time: 0.1794\n",
      "Time step #52 completed. Current time: 0.1910\n",
      "Time step #53 completed. Current time: 0.2000\n",
      "The total number of time steps required to reach t_final = 0.2 is 53.\n",
      "Dense Jacobian returned by user, using dense: size=200x200\n",
      "Jacobian marked as variable → will be recomputed at each stage refresh.\n",
      "Successfully pre-allocated memory for the solution array.\n"
     ]
    },
    {
     "name": "stdout",
     "output_type": "stream",
     "text": [
      "Time step #7 completed. Current time: 0.0024\n",
      "Time step #9 completed. Current time: 0.0046\n",
      "Time step #11 completed. Current time: 0.0071\n",
      "Time step #12 completed. Current time: 0.0083\n",
      "Time step #14 completed. Current time: 0.0111\n",
      "Time step #15 completed. Current time: 0.0125\n",
      "Time step #16 completed. Current time: 0.0140\n",
      "Time step #18 completed. Current time: 0.0173\n",
      "Time step #19 completed. Current time: 0.0190\n",
      "Time step #20 completed. Current time: 0.0208\n",
      "Time step #21 completed. Current time: 0.0227\n",
      "Time step #22 completed. Current time: 0.0247\n",
      "Time step #23 completed. Current time: 0.0268\n",
      "Time step #24 completed. Current time: 0.0290\n",
      "Time step #25 completed. Current time: 0.0313\n",
      "Time step #26 completed. Current time: 0.0338\n",
      "Time step #27 completed. Current time: 0.0364\n",
      "Time step #28 completed. Current time: 0.0391\n",
      "Time step #29 completed. Current time: 0.0420\n",
      "Time step #30 completed. Current time: 0.0451\n",
      "Time step #31 completed. Current time: 0.0483\n",
      "Time step #32 completed. Current time: 0.0518\n",
      "Time step #33 completed. Current time: 0.0554\n",
      "Time step #34 completed. Current time: 0.0593\n",
      "Time step #35 completed. Current time: 0.0634\n",
      "Time step #36 completed. Current time: 0.0678\n",
      "Time step #37 completed. Current time: 0.0725\n",
      "Time step #38 completed. Current time: 0.0775\n",
      "Time step #39 completed. Current time: 0.0827\n",
      "Time step #40 completed. Current time: 0.0884\n",
      "Time step #41 completed. Current time: 0.0944\n",
      "Time step #42 completed. Current time: 0.1007\n",
      "Time step #43 completed. Current time: 0.1075\n",
      "Time step #44 completed. Current time: 0.1147\n",
      "Time step #45 completed. Current time: 0.1224\n",
      "Time step #46 completed. Current time: 0.1305\n",
      "Time step #47 completed. Current time: 0.1392\n",
      "Time step #48 completed. Current time: 0.1484\n",
      "Time step #49 completed. Current time: 0.1581\n",
      "Time step #50 completed. Current time: 0.1684\n",
      "Time step #51 completed. Current time: 0.1794\n",
      "Time step #52 completed. Current time: 0.1910\n",
      "Time step #53 completed. Current time: 0.2000\n",
      "The total number of time steps required to reach t_final = 0.2 is 53.\n",
      "Sparse Jacobian returned by user: size=400x400, density=9.975e-03\n",
      "Jacobian marked as variable → will be recomputed at each stage refresh.\n",
      "Successfully pre-allocated memory for the solution array.\n",
      "Time step #11 completed. Current time: 0.0020\n",
      "Time step #17 completed. Current time: 0.0042\n",
      "Time step #22 completed. Current time: 0.0065\n",
      "Time step #25 completed. Current time: 0.0082\n",
      "Time step #28 completed. Current time: 0.0102\n",
      "Time step #31 completed. Current time: 0.0126\n",
      "Time step #33 completed. Current time: 0.0144\n",
      "Time step #35 completed. Current time: 0.0164\n"
     ]
    },
    {
     "name": "stdout",
     "output_type": "stream",
     "text": [
      "Time step #37 completed. Current time: 0.0187\n",
      "Time step #39 completed. Current time: 0.0213\n",
      "Time step #40 completed. Current time: 0.0228\n",
      "Time step #41 completed. Current time: 0.0243\n",
      "Time step #43 completed. Current time: 0.0276\n",
      "Time step #44 completed. Current time: 0.0294\n",
      "Time step #45 completed. Current time: 0.0313\n",
      "Time step #46 completed. Current time: 0.0333\n",
      "Time step #47 completed. Current time: 0.0355\n",
      "Time step #48 completed. Current time: 0.0377\n",
      "Time step #49 completed. Current time: 0.0402\n",
      "Time step #50 completed. Current time: 0.0427\n",
      "Time step #51 completed. Current time: 0.0454\n",
      "Time step #52 completed. Current time: 0.0482\n",
      "Time step #53 completed. Current time: 0.0512\n",
      "Time step #54 completed. Current time: 0.0544\n",
      "Time step #55 completed. Current time: 0.0577\n",
      "Time step #56 completed. Current time: 0.0613\n",
      "Time step #57 completed. Current time: 0.0650\n",
      "Time step #58 completed. Current time: 0.0689\n",
      "Time step #59 completed. Current time: 0.0731\n",
      "Time step #60 completed. Current time: 0.0775\n",
      "Time step #61 completed. Current time: 0.0821\n",
      "Time step #62 completed. Current time: 0.0870\n",
      "Time step #63 completed. Current time: 0.0922\n",
      "Time step #64 completed. Current time: 0.0977\n",
      "Time step #65 completed. Current time: 0.1035\n",
      "Time step #66 completed. Current time: 0.1096\n",
      "Time step #67 completed. Current time: 0.1160\n",
      "Time step #68 completed. Current time: 0.1228\n",
      "Time step #69 completed. Current time: 0.1300\n",
      "Time step #70 completed. Current time: 0.1376\n",
      "Time step #71 completed. Current time: 0.1456\n",
      "Time step #72 completed. Current time: 0.1540\n",
      "Time step #73 completed. Current time: 0.1629\n",
      "Time step #74 completed. Current time: 0.1723\n",
      "Time step #75 completed. Current time: 0.1822\n",
      "Time step #76 completed. Current time: 0.1926\n",
      "Time step #77 completed. Current time: 0.2000\n",
      "The total number of time steps required to reach t_final = 0.2 is 77.\n",
      "Dense Jacobian returned by user, using dense: size=400x400\n",
      "Jacobian marked as variable → will be recomputed at each stage refresh.\n",
      "Successfully pre-allocated memory for the solution array.\n"
     ]
    },
    {
     "name": "stdout",
     "output_type": "stream",
     "text": [
      "Time step #11 completed. Current time: 0.0020\n"
     ]
    },
    {
     "name": "stdout",
     "output_type": "stream",
     "text": [
      "Time step #17 completed. Current time: 0.0042\n"
     ]
    },
    {
     "name": "stdout",
     "output_type": "stream",
     "text": [
      "Time step #22 completed. Current time: 0.0065\n"
     ]
    },
    {
     "name": "stdout",
     "output_type": "stream",
     "text": [
      "Time step #25 completed. Current time: 0.0082\n"
     ]
    },
    {
     "name": "stdout",
     "output_type": "stream",
     "text": [
      "Time step #28 completed. Current time: 0.0102\n"
     ]
    },
    {
     "name": "stdout",
     "output_type": "stream",
     "text": [
      "Time step #31 completed. Current time: 0.0126\n"
     ]
    },
    {
     "name": "stdout",
     "output_type": "stream",
     "text": [
      "Time step #33 completed. Current time: 0.0144\n"
     ]
    },
    {
     "name": "stdout",
     "output_type": "stream",
     "text": [
      "Time step #35 completed. Current time: 0.0164\n"
     ]
    },
    {
     "name": "stdout",
     "output_type": "stream",
     "text": [
      "Time step #37 completed. Current time: 0.0187\n"
     ]
    },
    {
     "name": "stdout",
     "output_type": "stream",
     "text": [
      "Time step #39 completed. Current time: 0.0213\n"
     ]
    },
    {
     "name": "stdout",
     "output_type": "stream",
     "text": [
      "Time step #40 completed. Current time: 0.0228\n"
     ]
    },
    {
     "name": "stdout",
     "output_type": "stream",
     "text": [
      "Time step #41 completed. Current time: 0.0243\n"
     ]
    },
    {
     "name": "stdout",
     "output_type": "stream",
     "text": [
      "Time step #43 completed. Current time: 0.0276\n"
     ]
    },
    {
     "name": "stdout",
     "output_type": "stream",
     "text": [
      "Time step #44 completed. Current time: 0.0294\n"
     ]
    },
    {
     "name": "stdout",
     "output_type": "stream",
     "text": [
      "Time step #45 completed. Current time: 0.0313\n"
     ]
    },
    {
     "name": "stdout",
     "output_type": "stream",
     "text": [
      "Time step #46 completed. Current time: 0.0333\n"
     ]
    },
    {
     "name": "stdout",
     "output_type": "stream",
     "text": [
      "Time step #47 completed. Current time: 0.0355\n"
     ]
    },
    {
     "name": "stdout",
     "output_type": "stream",
     "text": [
      "Time step #48 completed. Current time: 0.0377\n"
     ]
    },
    {
     "name": "stdout",
     "output_type": "stream",
     "text": [
      "Time step #49 completed. Current time: 0.0402\n"
     ]
    },
    {
     "name": "stdout",
     "output_type": "stream",
     "text": [
      "Time step #50 completed. Current time: 0.0427\n"
     ]
    },
    {
     "name": "stdout",
     "output_type": "stream",
     "text": [
      "Time step #51 completed. Current time: 0.0454\n"
     ]
    },
    {
     "name": "stdout",
     "output_type": "stream",
     "text": [
      "Time step #52 completed. Current time: 0.0482\n"
     ]
    },
    {
     "name": "stdout",
     "output_type": "stream",
     "text": [
      "Time step #53 completed. Current time: 0.0512\n"
     ]
    },
    {
     "name": "stdout",
     "output_type": "stream",
     "text": [
      "Time step #54 completed. Current time: 0.0544\n"
     ]
    },
    {
     "name": "stdout",
     "output_type": "stream",
     "text": [
      "Time step #55 completed. Current time: 0.0577\n"
     ]
    },
    {
     "name": "stdout",
     "output_type": "stream",
     "text": [
      "Time step #56 completed. Current time: 0.0613\n"
     ]
    },
    {
     "name": "stdout",
     "output_type": "stream",
     "text": [
      "Time step #57 completed. Current time: 0.0650\n"
     ]
    },
    {
     "name": "stdout",
     "output_type": "stream",
     "text": [
      "Time step #58 completed. Current time: 0.0689\n"
     ]
    },
    {
     "name": "stdout",
     "output_type": "stream",
     "text": [
      "Time step #59 completed. Current time: 0.0731\n"
     ]
    },
    {
     "name": "stdout",
     "output_type": "stream",
     "text": [
      "Time step #60 completed. Current time: 0.0775\n"
     ]
    },
    {
     "name": "stdout",
     "output_type": "stream",
     "text": [
      "Time step #61 completed. Current time: 0.0821\n"
     ]
    },
    {
     "name": "stdout",
     "output_type": "stream",
     "text": [
      "Time step #62 completed. Current time: 0.0870\n"
     ]
    },
    {
     "name": "stdout",
     "output_type": "stream",
     "text": [
      "Time step #63 completed. Current time: 0.0922\n"
     ]
    },
    {
     "name": "stdout",
     "output_type": "stream",
     "text": [
      "Time step #64 completed. Current time: 0.0977\n"
     ]
    },
    {
     "name": "stdout",
     "output_type": "stream",
     "text": [
      "Time step #65 completed. Current time: 0.1035\n"
     ]
    },
    {
     "name": "stdout",
     "output_type": "stream",
     "text": [
      "Time step #66 completed. Current time: 0.1096\n"
     ]
    },
    {
     "name": "stdout",
     "output_type": "stream",
     "text": [
      "Time step #67 completed. Current time: 0.1160\n"
     ]
    },
    {
     "name": "stdout",
     "output_type": "stream",
     "text": [
      "Time step #68 completed. Current time: 0.1228\n"
     ]
    },
    {
     "name": "stdout",
     "output_type": "stream",
     "text": [
      "Time step #69 completed. Current time: 0.1300\n"
     ]
    },
    {
     "name": "stdout",
     "output_type": "stream",
     "text": [
      "Time step #70 completed. Current time: 0.1376\n"
     ]
    },
    {
     "name": "stdout",
     "output_type": "stream",
     "text": [
      "Time step #71 completed. Current time: 0.1456\n"
     ]
    },
    {
     "name": "stdout",
     "output_type": "stream",
     "text": [
      "Time step #72 completed. Current time: 0.1540\n"
     ]
    },
    {
     "name": "stdout",
     "output_type": "stream",
     "text": [
      "Time step #73 completed. Current time: 0.1629\n"
     ]
    },
    {
     "name": "stdout",
     "output_type": "stream",
     "text": [
      "Time step #74 completed. Current time: 0.1723\n"
     ]
    },
    {
     "name": "stdout",
     "output_type": "stream",
     "text": [
      "Time step #75 completed. Current time: 0.1822\n"
     ]
    },
    {
     "name": "stdout",
     "output_type": "stream",
     "text": [
      "Time step #76 completed. Current time: 0.1926\n"
     ]
    },
    {
     "name": "stdout",
     "output_type": "stream",
     "text": [
      "Time step #77 completed. Current time: 0.2000\n",
      "The total number of time steps required to reach t_final = 0.2 is 77.\n",
      "Sparse Jacobian returned by user: size=800x800, density=4.994e-03\n",
      "Jacobian marked as variable → will be recomputed at each stage refresh.\n",
      "Successfully pre-allocated memory for the solution array.\n",
      "Time step #25 completed. Current time: 0.0021\n",
      "Time step #35 completed. Current time: 0.0041\n"
     ]
    },
    {
     "name": "stdout",
     "output_type": "stream",
     "text": [
      "Time step #41 completed. Current time: 0.0060\n",
      "Time step #46 completed. Current time: 0.0082\n",
      "Time step #50 completed. Current time: 0.0105\n",
      "Time step #53 completed. Current time: 0.0126\n",
      "Time step #55 completed. Current time: 0.0141\n",
      "Time step #58 completed. Current time: 0.0168\n",
      "Time step #60 completed. Current time: 0.0189\n",
      "Time step #61 completed. Current time: 0.0200\n",
      "Time step #63 completed. Current time: 0.0225\n",
      "Time step #65 completed. Current time: 0.0252\n",
      "Time step #66 completed. Current time: 0.0266\n",
      "Time step #67 completed. Current time: 0.0282\n",
      "Time step #69 completed. Current time: 0.0315\n",
      "Time step #70 completed. Current time: 0.0334\n",
      "Time step #71 completed. Current time: 0.0353\n",
      "Time step #72 completed. Current time: 0.0373\n",
      "Time step #73 completed. Current time: 0.0394\n",
      "Time step #74 completed. Current time: 0.0417\n",
      "Time step #75 completed. Current time: 0.0440\n",
      "Time step #76 completed. Current time: 0.0465\n",
      "Time step #77 completed. Current time: 0.0492\n",
      "Time step #78 completed. Current time: 0.0519\n",
      "Time step #79 completed. Current time: 0.0548\n",
      "Time step #80 completed. Current time: 0.0579\n",
      "Time step #81 completed. Current time: 0.0611\n",
      "Time step #82 completed. Current time: 0.0645\n",
      "Time step #83 completed. Current time: 0.0681\n",
      "Time step #84 completed. Current time: 0.0718\n",
      "Time step #85 completed. Current time: 0.0758\n",
      "Time step #86 completed. Current time: 0.0799\n",
      "Time step #87 completed. Current time: 0.0843\n",
      "Time step #88 completed. Current time: 0.0889\n",
      "Time step #89 completed. Current time: 0.0938\n",
      "Time step #90 completed. Current time: 0.0988\n",
      "Time step #91 completed. Current time: 0.1042\n",
      "Time step #92 completed. Current time: 0.1098\n"
     ]
    },
    {
     "name": "stdout",
     "output_type": "stream",
     "text": [
      "Time step #93 completed. Current time: 0.1158\n",
      "Time step #94 completed. Current time: 0.1220\n",
      "Time step #95 completed. Current time: 0.1285\n",
      "Time step #96 completed. Current time: 0.1354\n",
      "Time step #97 completed. Current time: 0.1426\n",
      "Time step #98 completed. Current time: 0.1503\n",
      "Time step #99 completed. Current time: 0.1582\n",
      "Time step #100 completed. Current time: 0.1666\n",
      "Time step #101 completed. Current time: 0.1755\n",
      "Time step #102 completed. Current time: 0.1847\n",
      "Time step #103 completed. Current time: 0.1945\n",
      "Time step #104 completed. Current time: 0.2000\n",
      "The total number of time steps required to reach t_final = 0.2 is 104.\n",
      "Dense Jacobian returned by user, using dense: size=800x800\n",
      "Jacobian marked as variable → will be recomputed at each stage refresh.\n",
      "Successfully pre-allocated memory for the solution array.\n"
     ]
    },
    {
     "name": "stdout",
     "output_type": "stream",
     "text": [
      "Time step #25 completed. Current time: 0.0021\n"
     ]
    },
    {
     "name": "stdout",
     "output_type": "stream",
     "text": [
      "Time step #35 completed. Current time: 0.0041\n"
     ]
    },
    {
     "name": "stdout",
     "output_type": "stream",
     "text": [
      "Time step #41 completed. Current time: 0.0060\n"
     ]
    },
    {
     "name": "stdout",
     "output_type": "stream",
     "text": [
      "Time step #46 completed. Current time: 0.0082\n"
     ]
    },
    {
     "name": "stdout",
     "output_type": "stream",
     "text": [
      "Time step #50 completed. Current time: 0.0105\n"
     ]
    },
    {
     "name": "stdout",
     "output_type": "stream",
     "text": [
      "Time step #53 completed. Current time: 0.0126\n"
     ]
    },
    {
     "name": "stdout",
     "output_type": "stream",
     "text": [
      "Time step #55 completed. Current time: 0.0141\n"
     ]
    },
    {
     "name": "stdout",
     "output_type": "stream",
     "text": [
      "Time step #58 completed. Current time: 0.0168\n"
     ]
    },
    {
     "name": "stdout",
     "output_type": "stream",
     "text": [
      "Time step #60 completed. Current time: 0.0189\n"
     ]
    },
    {
     "name": "stdout",
     "output_type": "stream",
     "text": [
      "Time step #61 completed. Current time: 0.0200\n"
     ]
    },
    {
     "name": "stdout",
     "output_type": "stream",
     "text": [
      "Time step #63 completed. Current time: 0.0225\n"
     ]
    },
    {
     "name": "stdout",
     "output_type": "stream",
     "text": [
      "Time step #65 completed. Current time: 0.0252\n"
     ]
    },
    {
     "name": "stdout",
     "output_type": "stream",
     "text": [
      "Time step #66 completed. Current time: 0.0266\n"
     ]
    },
    {
     "name": "stdout",
     "output_type": "stream",
     "text": [
      "Time step #67 completed. Current time: 0.0282\n"
     ]
    },
    {
     "name": "stdout",
     "output_type": "stream",
     "text": [
      "Time step #69 completed. Current time: 0.0315\n"
     ]
    },
    {
     "name": "stdout",
     "output_type": "stream",
     "text": [
      "Time step #70 completed. Current time: 0.0334\n"
     ]
    },
    {
     "name": "stdout",
     "output_type": "stream",
     "text": [
      "Time step #71 completed. Current time: 0.0353\n"
     ]
    },
    {
     "name": "stdout",
     "output_type": "stream",
     "text": [
      "Time step #72 completed. Current time: 0.0373\n"
     ]
    },
    {
     "name": "stdout",
     "output_type": "stream",
     "text": [
      "Time step #73 completed. Current time: 0.0394\n"
     ]
    },
    {
     "name": "stdout",
     "output_type": "stream",
     "text": [
      "Time step #74 completed. Current time: 0.0417\n"
     ]
    },
    {
     "name": "stdout",
     "output_type": "stream",
     "text": [
      "Time step #75 completed. Current time: 0.0440\n"
     ]
    },
    {
     "name": "stdout",
     "output_type": "stream",
     "text": [
      "Time step #76 completed. Current time: 0.0465\n"
     ]
    },
    {
     "name": "stdout",
     "output_type": "stream",
     "text": [
      "Time step #77 completed. Current time: 0.0492\n"
     ]
    },
    {
     "name": "stdout",
     "output_type": "stream",
     "text": [
      "Time step #78 completed. Current time: 0.0519\n"
     ]
    },
    {
     "name": "stdout",
     "output_type": "stream",
     "text": [
      "Time step #79 completed. Current time: 0.0548\n"
     ]
    },
    {
     "name": "stdout",
     "output_type": "stream",
     "text": [
      "Time step #80 completed. Current time: 0.0579\n"
     ]
    },
    {
     "name": "stdout",
     "output_type": "stream",
     "text": [
      "Time step #81 completed. Current time: 0.0611\n"
     ]
    },
    {
     "name": "stdout",
     "output_type": "stream",
     "text": [
      "Time step #82 completed. Current time: 0.0645\n"
     ]
    },
    {
     "name": "stdout",
     "output_type": "stream",
     "text": [
      "Time step #83 completed. Current time: 0.0681\n"
     ]
    },
    {
     "name": "stdout",
     "output_type": "stream",
     "text": [
      "Time step #84 completed. Current time: 0.0718\n"
     ]
    },
    {
     "name": "stdout",
     "output_type": "stream",
     "text": [
      "Time step #85 completed. Current time: 0.0758\n"
     ]
    },
    {
     "name": "stdout",
     "output_type": "stream",
     "text": [
      "Time step #86 completed. Current time: 0.0799\n"
     ]
    },
    {
     "name": "stdout",
     "output_type": "stream",
     "text": [
      "Time step #87 completed. Current time: 0.0843\n"
     ]
    },
    {
     "name": "stdout",
     "output_type": "stream",
     "text": [
      "Time step #88 completed. Current time: 0.0889\n"
     ]
    },
    {
     "name": "stdout",
     "output_type": "stream",
     "text": [
      "Time step #89 completed. Current time: 0.0938\n"
     ]
    },
    {
     "name": "stdout",
     "output_type": "stream",
     "text": [
      "Time step #90 completed. Current time: 0.0988\n"
     ]
    },
    {
     "name": "stdout",
     "output_type": "stream",
     "text": [
      "Time step #91 completed. Current time: 0.1042\n"
     ]
    },
    {
     "name": "stdout",
     "output_type": "stream",
     "text": [
      "Time step #92 completed. Current time: 0.1098\n"
     ]
    },
    {
     "name": "stdout",
     "output_type": "stream",
     "text": [
      "Time step #93 completed. Current time: 0.1158\n"
     ]
    },
    {
     "name": "stdout",
     "output_type": "stream",
     "text": [
      "Time step #94 completed. Current time: 0.1220\n"
     ]
    },
    {
     "name": "stdout",
     "output_type": "stream",
     "text": [
      "Time step #95 completed. Current time: 0.1285\n"
     ]
    },
    {
     "name": "stdout",
     "output_type": "stream",
     "text": [
      "Time step #96 completed. Current time: 0.1354\n"
     ]
    },
    {
     "name": "stdout",
     "output_type": "stream",
     "text": [
      "Time step #97 completed. Current time: 0.1426\n"
     ]
    },
    {
     "name": "stdout",
     "output_type": "stream",
     "text": [
      "Time step #98 completed. Current time: 0.1503\n"
     ]
    },
    {
     "name": "stdout",
     "output_type": "stream",
     "text": [
      "Time step #99 completed. Current time: 0.1582\n"
     ]
    },
    {
     "name": "stdout",
     "output_type": "stream",
     "text": [
      "Time step #100 completed. Current time: 0.1666\n"
     ]
    },
    {
     "name": "stdout",
     "output_type": "stream",
     "text": [
      "Time step #101 completed. Current time: 0.1755\n"
     ]
    },
    {
     "name": "stdout",
     "output_type": "stream",
     "text": [
      "Time step #102 completed. Current time: 0.1847\n"
     ]
    },
    {
     "name": "stdout",
     "output_type": "stream",
     "text": [
      "Time step #103 completed. Current time: 0.1945\n"
     ]
    },
    {
     "name": "stdout",
     "output_type": "stream",
     "text": [
      "Time step #104 completed. Current time: 0.2000\n",
      "The total number of time steps required to reach t_final = 0.2 is 104.\n",
      "Sparse Jacobian returned by user: size=1600x1600, density=2.498e-03\n",
      "Jacobian marked as variable → will be recomputed at each stage refresh.\n",
      "Successfully pre-allocated memory for the solution array.\n"
     ]
    },
    {
     "name": "stdout",
     "output_type": "stream",
     "text": [
      "Time step #46 completed. Current time: 0.0020\n",
      "Time step #58 completed. Current time: 0.0041\n",
      "Time step #65 completed. Current time: 0.0061\n",
      "Time step #70 completed. Current time: 0.0081\n",
      "Time step #74 completed. Current time: 0.0101\n",
      "Time step #78 completed. Current time: 0.0126\n",
      "Time step #80 completed. Current time: 0.0140\n",
      "Time step #83 completed. Current time: 0.0165\n",
      "Time step #85 completed. Current time: 0.0184\n",
      "Time step #87 completed. Current time: 0.0204\n",
      "Time step #89 completed. Current time: 0.0227\n",
      "Time step #91 completed. Current time: 0.0252\n",
      "Time step #92 completed. Current time: 0.0266\n",
      "Time step #93 completed. Current time: 0.0280\n"
     ]
    },
    {
     "name": "stdout",
     "output_type": "stream",
     "text": [
      "Time step #95 completed. Current time: 0.0311\n",
      "Time step #96 completed. Current time: 0.0327\n",
      "Time step #97 completed. Current time: 0.0345\n",
      "Time step #98 completed. Current time: 0.0363\n",
      "Time step #99 completed. Current time: 0.0382\n",
      "Time step #100 completed. Current time: 0.0403\n",
      "Time step #101 completed. Current time: 0.0424\n",
      "Time step #102 completed. Current time: 0.0446\n",
      "Time step #103 completed. Current time: 0.0470\n",
      "Time step #104 completed. Current time: 0.0494\n",
      "Time step #105 completed. Current time: 0.0520\n",
      "Time step #106 completed. Current time: 0.0547\n",
      "Time step #107 completed. Current time: 0.0575\n",
      "Time step #108 completed. Current time: 0.0605\n",
      "Time step #109 completed. Current time: 0.0636\n",
      "Time step #110 completed. Current time: 0.0669\n",
      "Time step #111 completed. Current time: 0.0704\n",
      "Time step #112 completed. Current time: 0.0740\n",
      "Time step #113 completed. Current time: 0.0778\n",
      "Time step #114 completed. Current time: 0.0817\n",
      "Time step #115 completed. Current time: 0.0859\n",
      "Time step #116 completed. Current time: 0.0903\n",
      "Time step #117 completed. Current time: 0.0949\n",
      "Time step #118 completed. Current time: 0.0997\n",
      "Time step #119 completed. Current time: 0.1047\n",
      "Time step #120 completed. Current time: 0.1100\n",
      "Time step #121 completed. Current time: 0.1155\n",
      "Time step #122 completed. Current time: 0.1213\n",
      "Time step #123 completed. Current time: 0.1274\n",
      "Time step #124 completed. Current time: 0.1338\n",
      "Time step #125 completed. Current time: 0.1404\n",
      "Time step #126 completed. Current time: 0.1474\n",
      "Time step #127 completed. Current time: 0.1548\n",
      "Time step #128 completed. Current time: 0.1624\n",
      "Time step #129 completed. Current time: 0.1705\n",
      "Time step #130 completed. Current time: 0.1789\n",
      "Time step #131 completed. Current time: 0.1877\n",
      "Time step #132 completed. Current time: 0.1969\n",
      "Time step #133 completed. Current time: 0.2000\n",
      "The total number of time steps required to reach t_final = 0.2 is 133.\n",
      "Dense Jacobian returned by user, using dense: size=1600x1600\n",
      "Jacobian marked as variable → will be recomputed at each stage refresh.\n",
      "Successfully pre-allocated memory for the solution array.\n"
     ]
    },
    {
     "name": "stdout",
     "output_type": "stream",
     "text": [
      "Time step #46 completed. Current time: 0.0020\n"
     ]
    },
    {
     "name": "stdout",
     "output_type": "stream",
     "text": [
      "Time step #58 completed. Current time: 0.0041\n"
     ]
    },
    {
     "name": "stdout",
     "output_type": "stream",
     "text": [
      "Time step #65 completed. Current time: 0.0061\n"
     ]
    },
    {
     "name": "stdout",
     "output_type": "stream",
     "text": [
      "Time step #70 completed. Current time: 0.0081\n"
     ]
    },
    {
     "name": "stdout",
     "output_type": "stream",
     "text": [
      "Time step #74 completed. Current time: 0.0101\n"
     ]
    },
    {
     "name": "stdout",
     "output_type": "stream",
     "text": [
      "Time step #78 completed. Current time: 0.0126\n"
     ]
    },
    {
     "name": "stdout",
     "output_type": "stream",
     "text": [
      "Time step #80 completed. Current time: 0.0140\n"
     ]
    },
    {
     "name": "stdout",
     "output_type": "stream",
     "text": [
      "Time step #83 completed. Current time: 0.0165\n"
     ]
    },
    {
     "name": "stdout",
     "output_type": "stream",
     "text": [
      "Time step #85 completed. Current time: 0.0184\n"
     ]
    },
    {
     "name": "stdout",
     "output_type": "stream",
     "text": [
      "Time step #87 completed. Current time: 0.0204\n"
     ]
    },
    {
     "name": "stdout",
     "output_type": "stream",
     "text": [
      "Time step #89 completed. Current time: 0.0227\n"
     ]
    },
    {
     "name": "stdout",
     "output_type": "stream",
     "text": [
      "Time step #91 completed. Current time: 0.0252\n"
     ]
    },
    {
     "name": "stdout",
     "output_type": "stream",
     "text": [
      "Time step #92 completed. Current time: 0.0266\n"
     ]
    },
    {
     "name": "stdout",
     "output_type": "stream",
     "text": [
      "Time step #93 completed. Current time: 0.0280\n"
     ]
    },
    {
     "name": "stdout",
     "output_type": "stream",
     "text": [
      "Time step #95 completed. Current time: 0.0311\n"
     ]
    },
    {
     "name": "stdout",
     "output_type": "stream",
     "text": [
      "Time step #96 completed. Current time: 0.0327\n"
     ]
    },
    {
     "name": "stdout",
     "output_type": "stream",
     "text": [
      "Time step #97 completed. Current time: 0.0345\n"
     ]
    },
    {
     "name": "stdout",
     "output_type": "stream",
     "text": [
      "Time step #98 completed. Current time: 0.0363\n"
     ]
    },
    {
     "name": "stdout",
     "output_type": "stream",
     "text": [
      "Time step #99 completed. Current time: 0.0382\n"
     ]
    },
    {
     "name": "stdout",
     "output_type": "stream",
     "text": [
      "Time step #100 completed. Current time: 0.0403\n"
     ]
    },
    {
     "name": "stdout",
     "output_type": "stream",
     "text": [
      "Time step #101 completed. Current time: 0.0424\n"
     ]
    },
    {
     "name": "stdout",
     "output_type": "stream",
     "text": [
      "Time step #102 completed. Current time: 0.0446\n"
     ]
    },
    {
     "name": "stdout",
     "output_type": "stream",
     "text": [
      "Time step #103 completed. Current time: 0.0470\n"
     ]
    },
    {
     "name": "stdout",
     "output_type": "stream",
     "text": [
      "Time step #104 completed. Current time: 0.0494\n"
     ]
    },
    {
     "name": "stdout",
     "output_type": "stream",
     "text": [
      "Time step #105 completed. Current time: 0.0520\n"
     ]
    },
    {
     "name": "stdout",
     "output_type": "stream",
     "text": [
      "Time step #106 completed. Current time: 0.0547\n"
     ]
    },
    {
     "name": "stdout",
     "output_type": "stream",
     "text": [
      "Time step #107 completed. Current time: 0.0575\n"
     ]
    },
    {
     "name": "stdout",
     "output_type": "stream",
     "text": [
      "Time step #108 completed. Current time: 0.0605\n"
     ]
    },
    {
     "name": "stdout",
     "output_type": "stream",
     "text": [
      "Time step #109 completed. Current time: 0.0636\n"
     ]
    },
    {
     "name": "stdout",
     "output_type": "stream",
     "text": [
      "Time step #110 completed. Current time: 0.0669\n"
     ]
    },
    {
     "name": "stdout",
     "output_type": "stream",
     "text": [
      "Time step #111 completed. Current time: 0.0704\n"
     ]
    },
    {
     "name": "stdout",
     "output_type": "stream",
     "text": [
      "Time step #112 completed. Current time: 0.0740\n"
     ]
    },
    {
     "name": "stdout",
     "output_type": "stream",
     "text": [
      "Time step #113 completed. Current time: 0.0778\n"
     ]
    },
    {
     "name": "stdout",
     "output_type": "stream",
     "text": [
      "Time step #114 completed. Current time: 0.0817\n"
     ]
    },
    {
     "name": "stdout",
     "output_type": "stream",
     "text": [
      "Time step #115 completed. Current time: 0.0859\n"
     ]
    },
    {
     "name": "stdout",
     "output_type": "stream",
     "text": [
      "Time step #116 completed. Current time: 0.0903\n"
     ]
    },
    {
     "name": "stdout",
     "output_type": "stream",
     "text": [
      "Time step #117 completed. Current time: 0.0949\n"
     ]
    },
    {
     "name": "stdout",
     "output_type": "stream",
     "text": [
      "Time step #118 completed. Current time: 0.0997\n"
     ]
    },
    {
     "name": "stdout",
     "output_type": "stream",
     "text": [
      "Time step #119 completed. Current time: 0.1047\n"
     ]
    },
    {
     "name": "stdout",
     "output_type": "stream",
     "text": [
      "Time step #120 completed. Current time: 0.1100\n"
     ]
    },
    {
     "name": "stdout",
     "output_type": "stream",
     "text": [
      "Time step #121 completed. Current time: 0.1155\n"
     ]
    },
    {
     "name": "stdout",
     "output_type": "stream",
     "text": [
      "Time step #122 completed. Current time: 0.1213\n"
     ]
    },
    {
     "name": "stdout",
     "output_type": "stream",
     "text": [
      "Time step #123 completed. Current time: 0.1274\n"
     ]
    },
    {
     "name": "stdout",
     "output_type": "stream",
     "text": [
      "Time step #124 completed. Current time: 0.1338\n"
     ]
    },
    {
     "name": "stdout",
     "output_type": "stream",
     "text": [
      "Time step #125 completed. Current time: 0.1404\n"
     ]
    },
    {
     "name": "stdout",
     "output_type": "stream",
     "text": [
      "Time step #126 completed. Current time: 0.1474\n"
     ]
    },
    {
     "name": "stdout",
     "output_type": "stream",
     "text": [
      "Time step #127 completed. Current time: 0.1548\n"
     ]
    },
    {
     "name": "stdout",
     "output_type": "stream",
     "text": [
      "Time step #128 completed. Current time: 0.1624\n"
     ]
    },
    {
     "name": "stdout",
     "output_type": "stream",
     "text": [
      "Time step #129 completed. Current time: 0.1705\n"
     ]
    },
    {
     "name": "stdout",
     "output_type": "stream",
     "text": [
      "Time step #130 completed. Current time: 0.1789\n"
     ]
    },
    {
     "name": "stdout",
     "output_type": "stream",
     "text": [
      "Time step #131 completed. Current time: 0.1877\n"
     ]
    },
    {
     "name": "stdout",
     "output_type": "stream",
     "text": [
      "Time step #132 completed. Current time: 0.1969\n"
     ]
    },
    {
     "name": "stdout",
     "output_type": "stream",
     "text": [
      "Time step #133 completed. Current time: 0.2000\n",
      "The total number of time steps required to reach t_final = 0.2 is 133.\n",
      "Sparse Jacobian returned by user: size=3200x3200, density=1.250e-03\n",
      "Jacobian marked as variable → will be recomputed at each stage refresh.\n",
      "Memory allocation failed. Using the built-in python list. May slow down the solver performance...Consider enabling the export mode by setting 'export_interval' and 'export_prefix in the solver'sconstructor for a better performance.\n"
     ]
    },
    {
     "name": "stdout",
     "output_type": "stream",
     "text": [
      "Time step #71 completed. Current time: 0.0020\n",
      "Time step #84 completed. Current time: 0.0042\n",
      "Time step #91 completed. Current time: 0.0060\n",
      "Time step #97 completed. Current time: 0.0083\n",
      "Time step #101 completed. Current time: 0.0102\n"
     ]
    },
    {
     "name": "stdout",
     "output_type": "stream",
     "text": [
      "Time step #105 completed. Current time: 0.0125\n",
      "Time step #108 completed. Current time: 0.0145\n",
      "Time step #110 completed. Current time: 0.0161\n",
      "Time step #113 completed. Current time: 0.0187\n",
      "Time step #115 completed. Current time: 0.0206\n",
      "Time step #117 completed. Current time: 0.0228\n",
      "Time step #119 completed. Current time: 0.0251\n",
      "Time step #120 completed. Current time: 0.0264\n",
      "Time step #122 completed. Current time: 0.0291\n",
      "Time step #123 completed. Current time: 0.0306\n",
      "Time step #124 completed. Current time: 0.0321\n",
      "Time step #126 completed. Current time: 0.0354\n",
      "Time step #127 completed. Current time: 0.0371\n",
      "Time step #128 completed. Current time: 0.0390\n",
      "Time step #129 completed. Current time: 0.0409\n",
      "Time step #130 completed. Current time: 0.0429\n",
      "Time step #131 completed. Current time: 0.0450\n",
      "Time step #132 completed. Current time: 0.0472\n",
      "Time step #133 completed. Current time: 0.0496\n",
      "Time step #134 completed. Current time: 0.0520\n",
      "Time step #135 completed. Current time: 0.0545\n"
     ]
    },
    {
     "name": "stdout",
     "output_type": "stream",
     "text": [
      "Time step #136 completed. Current time: 0.0572\n",
      "Time step #137 completed. Current time: 0.0599\n",
      "Time step #138 completed. Current time: 0.0628\n",
      "Time step #139 completed. Current time: 0.0659\n",
      "Time step #140 completed. Current time: 0.0690\n",
      "Time step #141 completed. Current time: 0.0723\n",
      "Time step #142 completed. Current time: 0.0758\n",
      "Time step #143 completed. Current time: 0.0794\n",
      "Time step #144 completed. Current time: 0.0832\n",
      "Time step #145 completed. Current time: 0.0872\n",
      "Time step #146 completed. Current time: 0.0913\n",
      "Time step #147 completed. Current time: 0.0956\n",
      "Time step #148 completed. Current time: 0.1002\n",
      "Time step #149 completed. Current time: 0.1049\n",
      "Time step #150 completed. Current time: 0.1098\n",
      "Time step #151 completed. Current time: 0.1150\n",
      "Time step #152 completed. Current time: 0.1204\n",
      "Time step #153 completed. Current time: 0.1260\n",
      "Time step #154 completed. Current time: 0.1319\n",
      "Time step #155 completed. Current time: 0.1380\n",
      "Time step #156 completed. Current time: 0.1445\n",
      "Time step #157 completed. Current time: 0.1512\n",
      "Time step #158 completed. Current time: 0.1582\n",
      "Time step #159 completed. Current time: 0.1655\n",
      "Time step #160 completed. Current time: 0.1731\n",
      "Time step #161 completed. Current time: 0.1811\n",
      "Time step #162 completed. Current time: 0.1894\n",
      "Time step #163 completed. Current time: 0.1981\n",
      "Time step #164 completed. Current time: 0.2000\n",
      "The total number of time steps required to reach t_final = 0.2 is 164.\n"
     ]
    },
    {
     "name": "stdout",
     "output_type": "stream",
     "text": [
      "Dense Jacobian returned by user, using dense: size=3200x3200\n",
      "Jacobian marked as variable → will be recomputed at each stage refresh.\n",
      "Memory allocation failed. Using the built-in python list. May slow down the solver performance...Consider enabling the export mode by setting 'export_interval' and 'export_prefix in the solver'sconstructor for a better performance.\n"
     ]
    },
    {
     "name": "stdout",
     "output_type": "stream",
     "text": [
      "Time step #71 completed. Current time: 0.0020\n"
     ]
    },
    {
     "name": "stdout",
     "output_type": "stream",
     "text": [
      "Time step #84 completed. Current time: 0.0042\n"
     ]
    },
    {
     "name": "stdout",
     "output_type": "stream",
     "text": [
      "Time step #91 completed. Current time: 0.0060\n"
     ]
    },
    {
     "name": "stdout",
     "output_type": "stream",
     "text": [
      "Time step #97 completed. Current time: 0.0083\n"
     ]
    },
    {
     "name": "stdout",
     "output_type": "stream",
     "text": [
      "Time step #101 completed. Current time: 0.0102\n"
     ]
    },
    {
     "name": "stdout",
     "output_type": "stream",
     "text": [
      "Time step #105 completed. Current time: 0.0125\n"
     ]
    },
    {
     "name": "stdout",
     "output_type": "stream",
     "text": [
      "Time step #108 completed. Current time: 0.0145\n"
     ]
    },
    {
     "name": "stdout",
     "output_type": "stream",
     "text": [
      "Time step #110 completed. Current time: 0.0161\n"
     ]
    },
    {
     "name": "stdout",
     "output_type": "stream",
     "text": [
      "Time step #113 completed. Current time: 0.0187\n"
     ]
    },
    {
     "name": "stdout",
     "output_type": "stream",
     "text": [
      "Time step #115 completed. Current time: 0.0206\n"
     ]
    },
    {
     "name": "stdout",
     "output_type": "stream",
     "text": [
      "Time step #117 completed. Current time: 0.0228\n"
     ]
    },
    {
     "name": "stdout",
     "output_type": "stream",
     "text": [
      "Time step #119 completed. Current time: 0.0251\n"
     ]
    },
    {
     "name": "stdout",
     "output_type": "stream",
     "text": [
      "Time step #120 completed. Current time: 0.0264\n"
     ]
    },
    {
     "name": "stdout",
     "output_type": "stream",
     "text": [
      "Time step #122 completed. Current time: 0.0291\n"
     ]
    },
    {
     "name": "stdout",
     "output_type": "stream",
     "text": [
      "Time step #123 completed. Current time: 0.0306\n"
     ]
    },
    {
     "name": "stdout",
     "output_type": "stream",
     "text": [
      "Time step #124 completed. Current time: 0.0321\n"
     ]
    },
    {
     "name": "stdout",
     "output_type": "stream",
     "text": [
      "Time step #126 completed. Current time: 0.0354\n"
     ]
    },
    {
     "name": "stdout",
     "output_type": "stream",
     "text": [
      "Time step #127 completed. Current time: 0.0371\n"
     ]
    },
    {
     "name": "stdout",
     "output_type": "stream",
     "text": [
      "Time step #128 completed. Current time: 0.0390\n"
     ]
    },
    {
     "name": "stdout",
     "output_type": "stream",
     "text": [
      "Time step #129 completed. Current time: 0.0409\n"
     ]
    },
    {
     "name": "stdout",
     "output_type": "stream",
     "text": [
      "Time step #130 completed. Current time: 0.0429\n"
     ]
    },
    {
     "name": "stdout",
     "output_type": "stream",
     "text": [
      "Time step #131 completed. Current time: 0.0450\n"
     ]
    },
    {
     "name": "stdout",
     "output_type": "stream",
     "text": [
      "Time step #132 completed. Current time: 0.0472\n"
     ]
    },
    {
     "name": "stdout",
     "output_type": "stream",
     "text": [
      "Time step #133 completed. Current time: 0.0496\n"
     ]
    },
    {
     "name": "stdout",
     "output_type": "stream",
     "text": [
      "Time step #134 completed. Current time: 0.0520\n"
     ]
    },
    {
     "name": "stdout",
     "output_type": "stream",
     "text": [
      "Time step #135 completed. Current time: 0.0545\n"
     ]
    },
    {
     "name": "stdout",
     "output_type": "stream",
     "text": [
      "Time step #136 completed. Current time: 0.0572\n"
     ]
    },
    {
     "name": "stdout",
     "output_type": "stream",
     "text": [
      "Time step #137 completed. Current time: 0.0599\n"
     ]
    },
    {
     "name": "stdout",
     "output_type": "stream",
     "text": [
      "Time step #138 completed. Current time: 0.0628\n"
     ]
    },
    {
     "name": "stdout",
     "output_type": "stream",
     "text": [
      "Time step #139 completed. Current time: 0.0659\n"
     ]
    },
    {
     "name": "stdout",
     "output_type": "stream",
     "text": [
      "Time step #140 completed. Current time: 0.0690\n"
     ]
    },
    {
     "name": "stdout",
     "output_type": "stream",
     "text": [
      "Time step #141 completed. Current time: 0.0723\n"
     ]
    },
    {
     "name": "stdout",
     "output_type": "stream",
     "text": [
      "Time step #142 completed. Current time: 0.0758\n"
     ]
    },
    {
     "name": "stdout",
     "output_type": "stream",
     "text": [
      "Time step #143 completed. Current time: 0.0794\n"
     ]
    },
    {
     "name": "stdout",
     "output_type": "stream",
     "text": [
      "Time step #144 completed. Current time: 0.0832\n"
     ]
    },
    {
     "name": "stdout",
     "output_type": "stream",
     "text": [
      "Time step #145 completed. Current time: 0.0872\n"
     ]
    },
    {
     "name": "stdout",
     "output_type": "stream",
     "text": [
      "Time step #146 completed. Current time: 0.0913\n"
     ]
    },
    {
     "name": "stdout",
     "output_type": "stream",
     "text": [
      "Time step #147 completed. Current time: 0.0956\n"
     ]
    },
    {
     "name": "stdout",
     "output_type": "stream",
     "text": [
      "Time step #148 completed. Current time: 0.1002\n"
     ]
    },
    {
     "name": "stdout",
     "output_type": "stream",
     "text": [
      "Time step #149 completed. Current time: 0.1049\n"
     ]
    },
    {
     "name": "stdout",
     "output_type": "stream",
     "text": [
      "Time step #150 completed. Current time: 0.1098\n"
     ]
    },
    {
     "name": "stdout",
     "output_type": "stream",
     "text": [
      "Time step #151 completed. Current time: 0.1150\n"
     ]
    },
    {
     "name": "stdout",
     "output_type": "stream",
     "text": [
      "Time step #152 completed. Current time: 0.1204\n"
     ]
    },
    {
     "name": "stdout",
     "output_type": "stream",
     "text": [
      "Time step #153 completed. Current time: 0.1260\n"
     ]
    },
    {
     "name": "stdout",
     "output_type": "stream",
     "text": [
      "Time step #154 completed. Current time: 0.1319\n"
     ]
    },
    {
     "name": "stdout",
     "output_type": "stream",
     "text": [
      "Time step #155 completed. Current time: 0.1380\n"
     ]
    },
    {
     "name": "stdout",
     "output_type": "stream",
     "text": [
      "Time step #156 completed. Current time: 0.1445\n"
     ]
    },
    {
     "name": "stdout",
     "output_type": "stream",
     "text": [
      "Time step #157 completed. Current time: 0.1512\n"
     ]
    },
    {
     "name": "stdout",
     "output_type": "stream",
     "text": [
      "Time step #158 completed. Current time: 0.1582\n"
     ]
    },
    {
     "name": "stdout",
     "output_type": "stream",
     "text": [
      "Time step #159 completed. Current time: 0.1655\n"
     ]
    },
    {
     "name": "stdout",
     "output_type": "stream",
     "text": [
      "Time step #160 completed. Current time: 0.1731\n"
     ]
    },
    {
     "name": "stdout",
     "output_type": "stream",
     "text": [
      "Time step #161 completed. Current time: 0.1811\n"
     ]
    },
    {
     "name": "stdout",
     "output_type": "stream",
     "text": [
      "Time step #162 completed. Current time: 0.1894\n"
     ]
    },
    {
     "name": "stdout",
     "output_type": "stream",
     "text": [
      "Time step #163 completed. Current time: 0.1981\n"
     ]
    },
    {
     "name": "stdout",
     "output_type": "stream",
     "text": [
      "Time step #164 completed. Current time: 0.2000\n",
      "The total number of time steps required to reach t_final = 0.2 is 164.\n",
      "\\begin{table}[ht!]\n",
      "\\centering\n",
      "\\begin{tabular}{c|c|c|c}\n",
      "\\hline\n",
      "$N$ & Degrees of freedom ($2N$) & Dense solver & Sparse solver \\\\\n",
      "\\hline\n",
      "25 & 50 & 0.015 & 0.035 \\\\\n",
      "50 & 100 & 0.038 & 0.061 \\\\\n",
      "100 & 200 & 0.308 & 0.100 \\\\\n",
      "200 & 400 & 35.079 & 0.200 \\\\\n",
      "400 & 800 & 96.773 & 0.453 \\\\\n",
      "800 & 1600 & 335.118 & 0.610 \\\\\n",
      "1600 & 3200 & 1646.621 & 0.996 \\\\\n",
      "\\hline\n",
      "\\end{tabular}\n",
      "\\caption{CPU runtimes (in seconds) for the 1D Schnakenberg reaction--diffusion system solved with SDIRK(3,4). Comparison between dense and sparse Jacobian solvers.}\n",
      "\\label{tab:schnakenberg1d}\n",
      "\\end{table}\n"
     ]
    }
   ],
   "source": [
    "# ---------------------------------------------------------------------------\n",
    "# CPU-Time vs N\n",
    "# ---------------------------------------------------------------------------\n",
    "Ns = [25, 50, 100, 200, 400, 800, 1600]  # grid sizes\n",
    "t_final = 0.2             # short final time for benchmarking\n",
    "\n",
    "results = []\n",
    "\n",
    "for N in Ns:\n",
    "    prob_sparse = Schnakenberg1D(N, 0.0, t_final, force_dense=False)\n",
    "    prob_dense  = Schnakenberg1D(N, 0.0, t_final, force_dense=True)\n",
    "    \n",
    "    # Sparse solver\n",
    "    solver_sparse = RKSolverWithButcherTableau(auto_check_sparsity =True, **solver_opts)\n",
    "    t0 = time.perf_counter()\n",
    "    solver_sparse.solve(prob_sparse)\n",
    "    t_sparse = time.perf_counter() - t0\n",
    "    \n",
    "    # Dense solver\n",
    "    solver_dense = RKSolverWithButcherTableau(auto_check_sparsity =False, **solver_opts)\n",
    "    t0 = time.perf_counter()\n",
    "    solver_dense.solve(prob_dense)\n",
    "    t_dense = time.perf_counter() - t0\n",
    "    \n",
    "    results.append((N, 2*N, t_dense, t_sparse))\n",
    "\n",
    "# Print LaTeX table\n",
    "print(\"\\\\begin{table}[ht!]\")\n",
    "print(\"\\\\centering\")\n",
    "print(\"\\\\begin{tabular}{c|c|c|c}\")\n",
    "print(\"\\\\hline\")\n",
    "print(\"$N$ & Degrees of freedom ($2N$) & Dense solver & Sparse solver \\\\\\\\\")\n",
    "print(\"\\\\hline\")\n",
    "for N, dof, t_dense, t_sparse in results:\n",
    "    print(f\"{N} & {dof} & {t_dense:.3f} & {t_sparse:.3f} \\\\\\\\\")\n",
    "print(\"\\\\hline\")\n",
    "print(\"\\\\end{tabular}\")\n",
    "print(\"\\\\caption{CPU runtimes (in seconds) for the 1D Schnakenberg reaction--diffusion system solved with SDIRK(3,4). Comparison between dense and sparse Jacobian solvers.}\")\n",
    "print(\"\\\\label{tab:schnakenberg1d}\")\n",
    "print(\"\\\\end{table}\")\n"
   ]
  },
  {
   "cell_type": "code",
   "execution_count": 7,
   "id": "2f6c476a",
   "metadata": {
    "execution": {
     "iopub.execute_input": "2025-09-11T04:36:13.001990Z",
     "iopub.status.busy": "2025-09-11T04:36:13.001283Z",
     "iopub.status.idle": "2025-09-11T04:36:13.903850Z",
     "shell.execute_reply": "2025-09-11T04:36:13.902789Z"
    }
   },
   "outputs": [
    {
     "data": {
      "image/png": "[encoded data removed]",
      "text/plain": [
       "<Figure size 800x600 with 1 Axes>"
      ]
     },
     "metadata": {},
     "output_type": "display_data"
    }
   ],
   "source": [
    "plt.figure(figsize=(8,6))\n",
    "\n",
    "plt.loglog(Ns, [d[2] for d in results], 'o-', label='Dense solver')\n",
    "plt.loglog(Ns, [d[3] for d in results], 's-', label='Sparse solver')\n",
    "\n",
    "plt.xscale('log', base=10)\n",
    "plt.yscale('log', base=10)\n",
    "\n",
    "plt.xlabel(\"Degrees of freedom (2N)\")\n",
    "plt.ylabel(\"CPU time [s]\")\n",
    "plt.title(\"CPU time vs Degrees of freedom for 1D Schnakenberg system\")\n",
    "plt.grid(True, which=\"both\", ls=\"--\", alpha=0.5)\n",
    "plt.legend()\n",
    "plt.tight_layout()\n",
    "plt.show()"
   ]
  },
  {
   "cell_type": "code",
   "execution_count": null,
   "id": "318b4019",
   "metadata": {},
   "outputs": [],
   "source": []
  }
 ],
 "metadata": {
  "kernelspec": {
   "display_name": ".venv",
   "language": "python",
   "name": "python3"
  },
  "language_info": {
   "codemirror_mode": {
    "name": "ipython",
    "version": 3
   },
   "file_extension": ".py",
   "mimetype": "text/x-python",
   "name": "python",
   "nbconvert_exporter": "python",
   "pygments_lexer": "ipython3",
   "version": "3.13.7"
  }
 },
 "nbformat": 4,
 "nbformat_minor": 5
}
